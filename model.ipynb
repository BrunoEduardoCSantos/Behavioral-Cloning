{
 "cells": [
  {
   "cell_type": "code",
<<<<<<< HEAD
   "execution_count": null,
=======
   "execution_count": 1,
>>>>>>> 26c2a0801df10831f93205897214d4e9f5bc2054
   "metadata": {
    "collapsed": true
   },
   "outputs": [],
   "source": [
    "##Load Data"
   ]
  },
  {
   "cell_type": "code",
<<<<<<< HEAD
   "execution_count": 78,
=======
   "execution_count": 2,
>>>>>>> 26c2a0801df10831f93205897214d4e9f5bc2054
   "metadata": {},
   "outputs": [
    {
     "name": "stderr",
     "output_type": "stream",
     "text": [
      "Using TensorFlow backend.\n"
     ]
    }
   ],
   "source": [
    "import cv2\n",
    "import csv\n",
    "import numpy as np\n",
    "from keras.models import Sequential\n",
    "from keras.layers.core import Dense, Activation, Flatten, Lambda,Dropout\n",
    "from keras.layers.convolutional import Convolution2D\n",
    "from keras.layers.pooling import AveragePooling2D,MaxPooling2D\n",
    "from keras.layers import Cropping2D\n",
    "from sklearn.model_selection import train_test_split\n",
    "import math\n",
    "import pandas as pd\n",
    "def read_file(path):\n",
    "    df= pd.read_csv(path)\n",
    "    return df\n",
    "\n",
    "def get_split_data(path):\n",
    "    from sklearn.model_selection import train_test_split\n",
    "    df = read_file(path)\n",
    "    df.columns = ['center','left','right','steering','throttle','break','spead']\n",
    "    train_samples, validation_samples = train_test_split(df, test_size=0.2)\n",
    "    return train_samples,validation_samples\n"
   ]
  },
  {
   "cell_type": "code",
<<<<<<< HEAD
   "execution_count": null,
=======
   "execution_count": 3,
>>>>>>> 26c2a0801df10831f93205897214d4e9f5bc2054
   "metadata": {
    "collapsed": true
   },
   "outputs": [],
   "source": [
    "###Dataset summary and exploration"
   ]
  },
  {
   "cell_type": "code",
<<<<<<< HEAD
   "execution_count": 97,
=======
   "execution_count": 4,
>>>>>>> 26c2a0801df10831f93205897214d4e9f5bc2054
   "metadata": {},
   "outputs": [
    {
     "name": "stdout",
     "output_type": "stream",
     "text": [
<<<<<<< HEAD
      "Number of training examples = 3277\n",
      "Number of testing examples = 813\n",
      "Image data shape = 3277\n",
      "Number of classes = 241\n"
=======
      "Number of training examples = 3545\n",
      "Number of testing examples = 905\n",
      "Image data shape = 3545\n",
      "Number of classes = 301\n"
>>>>>>> 26c2a0801df10831f93205897214d4e9f5bc2054
     ]
    }
   ],
   "source": [
    "import numpy as np\n",
    "\n",
    "train_samples, validation_samples= get_split_data('data/driving_log.csv')\n",
    "#train_samples = train_samples.append(train2_samples).append(train3_samples)\n",
    "train_samples = train_samples[(train_samples['steering'] <= 0.85) & (train_samples['steering']>=-0.85)]\n",
    "train_samples = train_samples[(train_samples['steering'] < 0) | (train_samples['steering']>0)]\n",
    "validation_samples = validation_samples[(validation_samples['steering'] < 0) | (validation_samples['steering']>0)]\n",
    "validation_samples = validation_samples[(validation_samples['steering'] <= 0.85) & (validation_samples['steering']>=-0.85)]\n",
    "#validation_samples= validation_samples.append(validation2_samples).append(validation3_samples)\n",
<<<<<<< HEAD
    "\n",
    "                                       \n",
    "\n",
=======
>>>>>>> 26c2a0801df10831f93205897214d4e9f5bc2054
    "\n",
    "X_train,y_train= train_samples[['center','left','right']],train_samples['steering']\n",
    "X_test,y_test= validation_samples[['center','left','right']],validation_samples['steering']\n",
    "\n",
    " \n",
    "# TODO: Number of training examples\n",
    "n_train = len(X_train)\n",
    "\n",
    "# TODO: Number of testing examples.\n",
    "n_test = len(X_test)\n",
    "\n",
    "image_shape = X_train.shape[0]\n",
    "\n",
    "# TODO: How many unique classes/labels there are in the dataset.\n",
    "n_classes = len(np.unique(y_train))\n",
    "\n",
    "print(\"Number of training examples =\", n_train)\n",
    "print(\"Number of testing examples =\", n_test)\n",
    "\n",
    "print(\"Image data shape =\", image_shape)\n",
    "print(\"Number of classes =\", n_classes)"
   ]
  },
  {
   "cell_type": "code",
<<<<<<< HEAD
   "execution_count": null,
=======
   "execution_count": 5,
>>>>>>> 26c2a0801df10831f93205897214d4e9f5bc2054
   "metadata": {
    "collapsed": true
   },
   "outputs": [],
   "source": [
    "#Plot data summary"
   ]
  },
  {
   "cell_type": "code",
<<<<<<< HEAD
   "execution_count": 98,
=======
   "execution_count": 6,
>>>>>>> 26c2a0801df10831f93205897214d4e9f5bc2054
   "metadata": {},
   "outputs": [
    {
     "data": {
<<<<<<< HEAD
      "image/png": "iVBORw0KGgoAAAANSUhEUgAAAXoAAAD8CAYAAAB5Pm/hAAAABHNCSVQICAgIfAhkiAAAAAlwSFlz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\nRCTmFPQiIjGnoBcRibn/D2x43DX1EZjbAAAAAElFTkSuQmCC\n",
      "text/plain": [
       "<matplotlib.figure.Figure at 0x7fba23c39e10>"
=======
      "image/png": "iVBORw0KGgoAAAANSUhEUgAAAXoAAAD8CAYAAAB5Pm/hAAAABHNCSVQICAgIfAhkiAAAAAlwSFlz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\np6AXEYm4/w+zAj+N8SAuCwAAAABJRU5ErkJggg==\n",
      "text/plain": [
       "<matplotlib.figure.Figure at 0x7fcfb6061630>"
>>>>>>> 26c2a0801df10831f93205897214d4e9f5bc2054
      ]
     },
     "metadata": {},
     "output_type": "display_data"
    }
   ],
   "source": [
    "import matplotlib.pyplot as plt\n",
    "import pandas as pd\n",
    "# Visualizations will be shown in the notebook.\n",
    "%matplotlib inline\n",
    "##Plotting the count of each sign\n",
    "#train\n",
    "y_count_train = pd.Series(y_train).value_counts()\n",
    "\n",
    "fig, ax = plt.subplots()\n",
    "width = 0.1\n",
    "\n",
    "line_down= ax.bar(np.array(y_count_train.index), y_count_train, width)\n",
    "#test\n",
    "y_count_test = pd.Series(y_test).value_counts()\n",
    "y_unique_test = np.unique(y_test)\n",
    "line_up= ax.bar(np.array(y_count_test.index),y_count_test, width)\n",
    "\n",
    "plt.legend([line_up, line_down], ['Test dataset', 'Train dataset'])\n",
    "#plt.savefig('WriteUpImages/distr_class.png')\n",
    "plt.show()"
   ]
  },
  {
   "cell_type": "code",
<<<<<<< HEAD
   "execution_count": null,
=======
   "execution_count": 7,
>>>>>>> 26c2a0801df10831f93205897214d4e9f5bc2054
   "metadata": {
    "collapsed": true
   },
   "outputs": [],
   "source": [
    "#Pre-Process and normalize Data "
   ]
  },
  {
   "cell_type": "code",
<<<<<<< HEAD
   "execution_count": 89,
=======
   "execution_count": 8,
>>>>>>> 26c2a0801df10831f93205897214d4e9f5bc2054
   "metadata": {
    "collapsed": true
   },
   "outputs": [],
   "source": [
    "#Normalization of pictures\n",
    " \n",
    "def normalization(img):\n",
    "    img= img / 255. - 0.5\n",
    "    return img\n",
    "\n",
    "def preprocessing2(img):\n",
    "    img= cv2.cvtColor(img,cv2.COLOR_BGR2RGB)\n",
    "    img= img[60:140]\n",
    "    img = cv2.resize(img,(64, 64))\n",
    "    img = normalization(img)\n",
    "    return img\n"
   ]
  },
  {
   "cell_type": "code",
   "execution_count": 9,
   "metadata": {
    "collapsed": true
   },
   "outputs": [],
   "source": [
    "#Augment data"
   ]
  },
  {
   "cell_type": "code",
<<<<<<< HEAD
   "execution_count": 99,
   "metadata": {},
=======
   "execution_count": 10,
   "metadata": {
    "collapsed": true
   },
>>>>>>> 26c2a0801df10831f93205897214d4e9f5bc2054
   "outputs": [],
   "source": [
    "import sklearn\n",
    "#augment brigthness\n",
    "def augment_brightness_camera_images(image):\n",
    "    random_bright = .25+np.random.uniform()\n",
    "    return np.where((255 - image) < random_bright*image,255,image*random_bright)\n",
    "\n",
    "def flip(image,steering):\n",
    "# decide whether to horizontally flip the image:\n",
    "    flip_prob = np.random.random()\n",
    "    if flip_prob > 0.5:\n",
    "    # flip the image and reverse the steering angle\n",
    "        steering = -1*steering\n",
    "        image = cv2.flip(image, 1)\n",
    "    return image,steering\n",
    "\n",
    "def get_augment_row(row):\n",
    "    steering = row['steering']\n",
    "    \n",
    "    camera = np.random.choice(['center', 'left', 'right'])\n",
    "    \n",
    "    if camera == \"left\":\n",
    "          steering += 0.05 # or any other constant value which works well\n",
    "    elif camera == \"right\":\n",
    "         steering -= 0.05\n",
    "        \n",
    "    if \"\\\\\" in row[camera]:\n",
    "        filename= row[camera].split('\\\\')[-1]\n",
    "    else:\n",
    "        filename= row[camera].split('/')[-1]\n",
    "    \n",
    "    current_path = 'data/IMG/'+filename\n",
    "    #print(current_path)\n",
    "    \n",
    "    image = cv2.imread(current_path)\n",
    "    image= preprocessing2(image)\n",
    "    \n",
    "    image,steering= flip(image,steering)\n",
    "    image = augment_brightness_camera_images(image)\n",
    "    \n",
    "    return image,steering\n",
    "         \n",
    "def aug_data(samples,n_times):\n",
    "    images = []\n",
    "    angles = []\n",
    "    \n",
    "    for j in range(n_times):\n",
    "        for index, row in samples.iterrows():\n",
    "            img, steer = get_augment_row(row)\n",
    "            images.append(img)\n",
    "            angles.append(steer)\n",
    "    X_train = np.array(images)\n",
    "    y_train = np.array(angles)\n",
    "    return X_train,y_train\n",
    "\n",
<<<<<<< HEAD
    "X_train,y_train= aug_data(train_samples,10)\n",
    "X_test,y_test= aug_data(validation_samples,10)"
=======
    "X_train,y_train= aug_data(train_samples,15)\n",
    "X_test,y_test= aug_data(validation_samples,15)"
>>>>>>> 26c2a0801df10831f93205897214d4e9f5bc2054
   ]
  },
  {
   "cell_type": "code",
   "execution_count": 11,
   "metadata": {
    "collapsed": true
   },
   "outputs": [],
   "source": [
    "#visualization of augmented data"
   ]
<<<<<<< HEAD
  },
  {
   "cell_type": "code",
   "execution_count": 100,
   "metadata": {},
   "outputs": [
    {
     "data": {
      "image/png": "iVBORw0KGgoAAAANSUhEUgAAAXsAAAD8CAYAAACW/ATfAAAABHNCSVQICAgIfAhkiAAAAAlwSFlz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\nAABJRU5ErkJggg==\n",
      "text/plain": [
       "<matplotlib.figure.Figure at 0x7fba21e960f0>"
      ]
     },
     "metadata": {},
     "output_type": "display_data"
    }
   ],
   "source": [
    "import matplotlib.pyplot as plt\n",
    "import pandas as pd\n",
    "# Visualizations will be shown in the notebook.\n",
    "%matplotlib inline\n",
    "##Plotting the count of each sign\n",
    "#train\n",
    "y_count_train = pd.Series(y_train).value_counts()\n",
    "\n",
    "fig, ax = plt.subplots()\n",
    "width = 0.1\n",
    "\n",
    "line_down= ax.bar(np.array(y_count_train.index), y_count_train, width)\n",
    "#test\n",
    "y_count_test = pd.Series(y_test).value_counts()\n",
    "y_unique_test = np.unique(y_test)\n",
    "line_up= ax.bar(np.array(y_count_test.index),y_count_test, width)\n",
    "\n",
    "plt.legend([line_up, line_down], ['Test dataset', 'Train dataset'])\n",
    "#plt.savefig('WriteUpImages/distr_class.png')\n",
    "plt.show()"
   ]
=======
>>>>>>> 26c2a0801df10831f93205897214d4e9f5bc2054
  },
  {
   "cell_type": "code",
   "execution_count": 12,
   "metadata": {},
   "outputs": [
    {
     "data": {
      "image/png": "iVBORw0KGgoAAAANSUhEUgAAAXsAAAD8CAYAAACW/ATfAAAABHNCSVQICAgIfAhkiAAAAAlwSFlz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\nAAAAAElFTkSuQmCC\n",
      "text/plain": [
       "<matplotlib.figure.Figure at 0x7fcfb60616d8>"
      ]
     },
     "metadata": {},
     "output_type": "display_data"
    }
   ],
   "source": [
    "import matplotlib.pyplot as plt\n",
    "import pandas as pd\n",
    "# Visualizations will be shown in the notebook.\n",
    "%matplotlib inline\n",
    "##Plotting the count of each sign\n",
    "#train\n",
    "y_count_train = pd.Series(y_train).value_counts()\n",
    "\n",
    "fig, ax = plt.subplots()\n",
    "width = 0.1\n",
    "\n",
    "line_down= ax.bar(np.array(y_count_train.index), y_count_train, width)\n",
    "#test\n",
    "y_count_test = pd.Series(y_test).value_counts()\n",
    "y_unique_test = np.unique(y_test)\n",
    "line_up= ax.bar(np.array(y_count_test.index),y_count_test, width)\n",
    "\n",
    "plt.legend([line_up, line_down], ['Test dataset', 'Train dataset'])\n",
    "#plt.savefig('WriteUpImages/distr_class.png')\n",
    "plt.show()"
   ]
  },
  {
   "cell_type": "code",
   "execution_count": 13,
   "metadata": {
    "collapsed": true
   },
   "outputs": [],
   "source": [
    "#Generator to faster  data processing"
   ]
  },
  {
   "cell_type": "code",
<<<<<<< HEAD
   "execution_count": 85,
=======
   "execution_count": 14,
>>>>>>> 26c2a0801df10831f93205897214d4e9f5bc2054
   "metadata": {
    "collapsed": true
   },
   "outputs": [],
   "source": [
    "def get_data_generator(samples, batch_size=32):\n",
    "    num_samples = len(samples)\n",
    "    # Your generator should yield images indefinitely\n",
    "    while 1: # Loop forever so the generator never terminates\n",
    "        for offset in range(0, num_samples, batch_size):\n",
    "            start = offset\n",
    "            end = offset+batch_size\n",
    "            batch_samples = samples.iloc[start:end,:]\n",
    "            images = []\n",
    "            angles = []\n",
    "            for index, row in batch_samples.iterrows():\n",
    "                img, steer = get_augment_row(row)\n",
    "                images.append(img)\n",
    "                angles.append(steer)\n",
    "           # trim image to only see section with road\n",
    "            X_train = np.array(images)\n",
    "            y_train = np.array(angles)\n",
    "            #X_train = np.reshape(X_train, X_train.shape + (1,))\n",
    "        yield sklearn.utils.shuffle(X_train, y_train)\n",
    "        \n",
    "\n",
    "def get_data_generator2(X_train,y_train, batch_size=32):\n",
    "    num_samples = len(X_train)\n",
    "    # Your generator should yield images indefinitely\n",
    "    while 1: # Loop forever so the generator never terminates\n",
    "        for offset in range(0, num_samples, batch_size):\n",
    "            start = offset\n",
    "            end = offset+batch_size\n",
    "            X_batch,y_batch= X_train[start:end],y_train[start:end]\n",
    "            images = []\n",
    "            angles = []\n",
    "            for index, row in zip(X_batch,y_batch):\n",
    "                images.append(index)\n",
    "                angles.append(row)\n",
    "           # trim image to only see section with road\n",
    "            X_trains = np.array(images)\n",
    "            y_trains = np.array(angles)\n",
    "            yield sklearn.utils.shuffle(X_trains, y_trains)\n"
   ]
  },
  {
   "cell_type": "code",
   "execution_count": 15,
   "metadata": {
    "collapsed": true
   },
   "outputs": [],
   "source": [
    "#Model architecture"
   ]
  },
  {
   "cell_type": "code",
<<<<<<< HEAD
   "execution_count": 101,
=======
   "execution_count": 17,
>>>>>>> 26c2a0801df10831f93205897214d4e9f5bc2054
   "metadata": {
    "scrolled": true
   },
   "outputs": [
    {
     "name": "stdout",
     "output_type": "stream",
     "text": [
<<<<<<< HEAD
      "Epoch 1/1\n",
      "39938/40000 [============================>.] - ETA: 0s - loss: 0.0239"
=======
      "Epoch 1/2\n",
      "39936/40000 [============================>.] - ETA: 0s - loss: 0.0305"
>>>>>>> 26c2a0801df10831f93205897214d4e9f5bc2054
     ]
    },
    {
     "name": "stderr",
     "output_type": "stream",
     "text": [
      "/home/carnd/anaconda3/envs/carnd-term1/lib/python3.5/site-packages/keras/engine/training.py:1569: UserWarning: Epoch comprised more than `samples_per_epoch` samples, which might affect learning results. Set `samples_per_epoch` correctly to avoid this warning.\n",
      "  warnings.warn('Epoch comprised more than '\n"
     ]
    },
    {
     "name": "stdout",
     "output_type": "stream",
     "text": [
<<<<<<< HEAD
      "40066/40000 [==============================] - 28s - loss: 0.0239 - val_loss: 0.0220\n"
=======
      "40064/40000 [==============================] - 27s - loss: 0.0305 - val_loss: 0.0233\n",
      "Epoch 2/2\n",
      "40119/40000 [==============================] - 27s - loss: 0.0187 - val_loss: 0.0188\n"
>>>>>>> 26c2a0801df10831f93205897214d4e9f5bc2054
     ]
    }
   ],
   "source": [
    "model = Sequential()\n",
    "\n",
    "model.add(Convolution2D(32,3,3, subsample=(1,1), activation='relu',input_shape=(64,64,3)))\n",
    "model.add(MaxPooling2D(pool_size=(2, 2)))\n",
    "\n",
    "model.add(Convolution2D(48,3,3, subsample=(1,1), activation='relu'))\n",
    "model.add(MaxPooling2D(pool_size=(2, 2)))\n",
    "\n",
    "model.add(Convolution2D(64,3,3, subsample=(1,1), activation='relu'))\n",
    "model.add(MaxPooling2D(pool_size=(2, 2)))\n",
    "\n",
    "\n",
    "model.add(Flatten())\n",
    "\n",
    "model.add(Dense(1164,activation='relu'))\n",
    "model.add(Dropout(0.5))\n",
    "model.add(Dense(100,activation='relu'))\n",
    "#model.add(Dropout(0.5))\n",
    "model.add(Dense(50,activation='relu'))\n",
    "#model.add(Dropout(0.5))\n",
    "model.add(Dense(10,activation='relu'))\n",
    "#model.add(Dropout(0.5))\n",
    "model.add(Dense(1))\n",
    "\n",
    "model.compile(loss='mse',optimizer= 'adam')\n",
    "\n",
    "model.fit_generator( get_data_generator2(X_train,y_train, batch_size=128), samples_per_epoch= 40000, validation_data=get_data_generator2(X_test,y_test, batch_size=128),nb_val_samples=8000, nb_epoch=2)\n",
    "\n",
    "model.save('model.h5')"
   ]
  },
  {
   "cell_type": "code",
   "execution_count": null,
   "metadata": {
    "collapsed": true
   },
   "outputs": [],
   "source": []
  }
 ],
 "metadata": {
  "kernelspec": {
   "display_name": "Python 3",
   "language": "python",
   "name": "python3"
  },
  "language_info": {
   "codemirror_mode": {
    "name": "ipython",
    "version": 3
   },
   "file_extension": ".py",
   "mimetype": "text/x-python",
   "name": "python",
   "nbconvert_exporter": "python",
   "pygments_lexer": "ipython3",
   "version": "3.5.2"
  },
  "widgets": {
   "state": {},
   "version": "1.1.2"
  }
 },
 "nbformat": 4,
 "nbformat_minor": 2
}
